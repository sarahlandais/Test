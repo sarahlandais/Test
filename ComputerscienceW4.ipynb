{
  "nbformat": 4,
  "nbformat_minor": 0,
  "metadata": {
    "colab": {
      "provenance": []
    },
    "kernelspec": {
      "name": "python3",
      "display_name": "Python 3"
    },
    "language_info": {
      "name": "python"
    }
  },
  "cells": [
    {
      "cell_type": "code",
      "execution_count": null,
      "metadata": {
        "id": "vRY_cFW6JGtB"
      },
      "outputs": [],
      "source": [
        "# prompt: num1= float(input(\"enter a number:\"))\n",
        "\n",
        "num1 = float(input(\"enter a number:\"))\n",
        "num2= float(input(\"enter a number:\"))\n",
        "operation= input(\"enter a sign (+,-,*,/,**,<,>):\")\n",
        "\n",
        "if operation == \"+\":\n",
        "    print(num1+num2)\n",
        "elif operation == \"-\":\n",
        "    print(num1-num2)\n",
        "elif operation == \"*\":\n",
        "    print(num1*num2)\n",
        "elif operation == \"/\" and num2!=0:\n",
        "    print(num1/num2)\n",
        "elif operation == \"**\":\n",
        "    print(num1**num2)\n",
        "elif operation == \"<\" and num2<num1:\n",
        "    print(num1)\n",
        "elif operation== \">\" and num2>num1:\n",
        "    print(num1)\n",
        "elif operation == \"<\" and num2>num1:\n",
        "    print(num2)\n",
        "elif operation== \">\" and num2<num1:\n",
        "    print(num2)\n",
        "else :\n",
        "    print(\"I do not support this yet.\")\n",
        "\n"
      ]
    },
    {
      "cell_type": "code",
      "source": [
        "text= \"My name is Sarah and I live in London\"\n",
        "print(text[11])\n",
        "print(text[-8])\n"
      ],
      "metadata": {
        "colab": {
          "base_uri": "https://localhost:8080/"
        },
        "id": "OVtG-Q0_Lc0h",
        "outputId": "bd1c7eec-2165-4950-c477-245ba999b478"
      },
      "execution_count": null,
      "outputs": [
        {
          "output_type": "stream",
          "name": "stdout",
          "text": [
            "S\n",
            "n\n"
          ]
        }
      ]
    },
    {
      "cell_type": "code",
      "source": [
        "text= \"Londres, la capitale de l'Angleterre et du Royaume-Uni, est une ville moderne dont l'histoire remonte à l'époque romaine.\"\n",
        "print(len(text))\n",
        "print(text[-17:-9])\n"
      ],
      "metadata": {
        "colab": {
          "base_uri": "https://localhost:8080/"
        },
        "id": "B4TbzNV_OTyB",
        "outputId": "8af53b91-12f0-40eb-8a51-abf0a36ea1de"
      },
      "execution_count": null,
      "outputs": [
        {
          "output_type": "stream",
          "name": "stdout",
          "text": [
            "121\n",
            "l'époque\n"
          ]
        }
      ]
    },
    {
      "cell_type": "code",
      "source": [
        "text = input(\"Where are you from?\")\n",
        "#If the city starts with L then print \"Capital L\"\n",
        "# else print \"Something else\"\n",
        "# Check if the text has a . at the end, if so say you have a dot.\n",
        "# If not say there is not dot!\n",
        "\n",
        "if text[0]==\"L\":\n",
        "    print(\"Capital L\")\n",
        "else:\n",
        "    print(\"Something else\")\n",
        "\n",
        "if text[-1]==\".\":\n",
        "    print(\"You have a dot\")\n",
        "else:\n",
        "    print(\"There is not dot\")\n"
      ],
      "metadata": {
        "colab": {
          "base_uri": "https://localhost:8080/"
        },
        "id": "GgN5YrzzO_s7",
        "outputId": "15e41b78-3df2-481e-c033-fa4fa3f11e92"
      },
      "execution_count": null,
      "outputs": [
        {
          "output_type": "stream",
          "name": "stdout",
          "text": [
            "Where are you from?London. \n",
            "Capital L\n",
            "There is not dot\n"
          ]
        }
      ]
    }
  ]
}